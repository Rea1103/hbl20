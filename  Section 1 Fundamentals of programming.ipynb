{
 "cells": [
  {
   "cell_type": "markdown",
   "metadata": {},
   "source": [
    "# Chapter 1  \n",
    "\n",
    "## Programming basics  \n",
    "\n",
    "### Algorithms  \n",
    "An algorithm is a set of rules or a sequence of steps specifying how to solve a problem.  \n",
    "It would have a set of input, processing and output.\n",
    "\n",
    "### Pseudocode  \n",
    "\n",
    "*Note that there is no concrete rules or syntax for how pseudocode has to be written. The following psuedocode are based of on O-lvl syllabus*  \n",
    "\n",
    "- Sequence construct\n",
    "> ``INPUT name``  \n",
    "\\\n",
    "> ``OUTPUT 'Hello' + name``\n",
    "- Selection construct\n",
    "> ``INPUT ____\n",
    "IF... THEN\n",
    "    OUTPUT '...'\n",
    "ELSEIF... THEN\n",
    "    OUTPUT '...'\n",
    "ELSE\n",
    "    OUTPUT '...'\n",
    "ENDIF``\n",
    "\\\n",
    "\\\n",
    "``INPUT password\n",
    "CASE password(var name)\n",
    "\"\":\n",
    "    OUTPUT 'User input is empty'\n",
    "\"P@55w0rd\":\n",
    "    OUTPUT 'Correct password'\n",
    "OTHERWISE\n",
    "    OUTPUT 'Incorrect password'\n",
    "ENDCASE``\n",
    "- Iteration construct\n",
    "> Indefinite iteration is where the iteration continues until some specified condition is met. This includes while & repeat loops.  \n",
    "\\\n",
    "``Name = \"\"\n",
    "WHILE name == \"\"\n",
    "\tINPUT name\n",
    "ENDWHILE\n",
    "OUTPUT \"Hello\" + name!``\n",
    "\\\n",
    "\\\n",
    "``REPEAT\n",
    "\tINPUT name\n",
    "UNTIL name is not equal to \"\"\n",
    "OUTPUT \"Hello\" + name!``\n",
    "\\\n",
    "\\\n",
    "\\\n",
    "Definite iteration is where the number of times the loop is to be executed is decided in advance, is implemented.  \n",
    "\\\n",
    "``FOR x = 1 to 5\n",
    "\tOUTPUT x\n",
    "NEXT!``\n",
    "\n",
    "*Note that sequence, selection and iteration are* **program constructs**  \n",
    "\n",
    "### Data types\n",
    "\n",
    "| Data types | Definition                             |\n",
    "| ---------- | :------------------------------------: |\n",
    "| Integer    | A whole number such as -25, 0, 28779   |\n",
    "| Real/float | A number with fractional parts such as -25.6, 0.0, 3.142   |\n",
    "| Boolean    | A Boolean variable canonly take the value TRUE of FALSE   |\n",
    "| Character  | A letter/number/special character typically represented in ASCII such as a, A, ?, % |\n",
    "| String     | Anything enclosed in quote makrs eg: \"Peter\", \"123\" |  \n",
    "\n",
    "### Constants and variables\n",
    "\n",
    "Variables are identifiers (names) given to memory location whose contents will change during the course of the program.  \n",
    "\\\n",
    "Some programming languages allows you to define constants, whose values never change while the program is being run.\n",
    "The advantages of using constant is that there is no change that a programmer will accidentally change its value by using the identifier for a different purpose. In addition, using constants makes programming code more readable than using values.  \n",
    "\n",
    "### Relational operators\n",
    "\n",
    "|       |                           |\n",
    "| ----- | :-----------------------: |\n",
    "| >     | greater than              |\n",
    "| <     | less than                 |\n",
    "| >=    | greater than or equals to |\n",
    "| <=    | less than or equals to    |\n",
    "| ==    | equal                     |\n",
    "| <>/!= | not equal                 |\n",
    "\n",
    "\n",
    "### Boolean operators\n",
    "\n",
    "|      |                           |\n",
    "| ---- | :-----------------------: |\n",
    "| AND  | (TRUE AND TRUE) -> TRUE, (FALSE AND FALSE) -> FALSE, (TRUE AND FALSE) -> FALSE            |\n",
    "| OR   | (TRUE OR TRUE) -> TRUE, (FALSE AND FALSE) -> FALSE, (TRUE OR FALSE) -> TRUE              |\n",
    "| NOT  | (NOT TRUE) -> FALSE, (NOT FALSE) -> TRUE |\n",
    "| XOR  | (a AND NOT b) OR (NOT a AND b)   |\n",
    "\n",
    "*Note: XOR stands for exclusive or. For javascript, XOR can be used directly but for python, ^ is used eg:* ``85 ^ 182``  \n",
    "*Another analogy for XOR: if both bits are 0 or 1, then output 0. else output 1* \n",
    "\n",
    "\n",
    "### Common Arithmetic operations\n",
    "Note: If the number gets very huge eg: ``2e200 (2e**2000)``, ``inf`` would be shown which stands for infinity.  \n",
    "\n",
    "| Method               | Return          |\n",
    "| -------------------- | :-------------: |\n",
    "| ``round (x,y)``      |    |\n",
    "| ``math.floor (x,y)`` | Returns the largest int no grater than x   |\n",
    "| ``math.ceil (x,y)``  | Returns smallest int no less than x   |\n",
    "| ``math.trunc (x,y)`` | It works like floor   |\n",
    "| ``power(x, y, z)``   | ``(x**y)%z``   |\n",
    "| ``abs(x)``           |  |\n"
   ]
  },
  {
   "cell_type": "code",
   "execution_count": 4,
   "metadata": {},
   "outputs": [
    {
     "name": "stdout",
     "output_type": "stream",
     "text": [
      "2\n",
      "4\n",
      "1.0\n",
      "1.2\n",
      "132.32\n"
     ]
    }
   ],
   "source": [
    "print(round(2.5))\n",
    "print(round(3.5))\n",
    "print(round(1.2545,0)) #1 dp output\n",
    "print(round(1.2345,1)) #1 dp output\n",
    "print(round(132.32,2)) #2 dp output"
   ]
  },
  {
   "cell_type": "code",
   "execution_count": 9,
   "metadata": {},
   "outputs": [
    {
     "name": "stdout",
     "output_type": "stream",
     "text": [
      "3434\n",
      "100\n",
      "3\n"
     ]
    }
   ],
   "source": [
    "import math\n",
    "print(math.floor(3434.23))\n",
    "print(math.floor(100.72))\n",
    "print(math.floor(math.pi))"
   ]
  },
  {
   "cell_type": "code",
   "execution_count": 10,
   "metadata": {},
   "outputs": [
    {
     "name": "stdout",
     "output_type": "stream",
     "text": [
      "-23\n",
      "301\n",
      "301\n"
     ]
    }
   ],
   "source": [
    "import math\n",
    "print (math.ceil(-23.11)) \n",
    "print (math.ceil(300.16))\n",
    "print (math.ceil(300.72))"
   ]
  },
  {
   "cell_type": "markdown",
   "metadata": {},
   "source": [
    "### String-handling functions\n",
    "\n",
    "| Method               | Return          |\n",
    "| -------------------- | :-------------: |\n",
    "| ``len(string)``      |  |\n",
    "| ``string.substring(index1, index2)`` | similar to ``string[index1, index2+1]`` since index2 is inclusive |\n",
    "| ``string.find(val)`` | returns the index position of the specified value and -1 if not found |\n",
    "| ``string.index(val)`` | returns the index position of the specified value |\n",
    "| ``string.count(val)`` |  |\n",
    "| ``ord('val')`` | returns that int value of a character |\n",
    "| ``chr(97)`` | returns the character represented by an int |"
   ]
  },
  {
   "cell_type": "code",
   "execution_count": 11,
   "metadata": {},
   "outputs": [
    {
     "name": "stdout",
     "output_type": "stream",
     "text": [
      "3\n"
     ]
    }
   ],
   "source": [
    "a = 'apple'\n",
    "print(a.find('l'))"
   ]
  },
  {
   "cell_type": "markdown",
   "metadata": {},
   "source": [
    "# Chapter 2\n",
    "\n",
    "## Arrays\n",
    "\n",
    "### Data structures\n",
    "\n",
    "A data structure is a collection of elementary data types such as integer, real/float, boolean, char and built-in methods to facilitate processing in some way.\n",
    "\n",
    "### 1-dimensional arrays\n",
    "\n",
    "An array is defined as a finite, ordered set of elements of the same type, such as integerm real/float or char. Finite means that there is a specific number of elements in the array. Ordered implies that there is a first second, third etc. element of the array.\n",
    "\n",
    "Eg: ``birdName = ['robin', 'blackbird', 'pigeon', 'magpie', 'bluetit', 'thrush', 'wren', 'starling']``\n",
    "\n",
    "### 2-dimensional arrays\n",
    "\n",
    "An array can have 2 or more dimensions. A 2-d array can be visualised as a table, rather like a spreadsheat.\n",
    "\n",
    "Imagine a 2-d array called ``numbers``, with 3 rows & 4 columns. Elements in the array can be reffered to by their row & column number, so that ``numbers[1][3] = 8``\n",
    "\n",
    "| Row   | Column 0 | Column 1 | Column 2 | Column 3 |\n",
    "| ----- | :------: | :------: | :------: | :------: |\n",
    "| Row 0 | 1        | 2        | 3        | 4        |\n",
    "| Row 1 | 5        | 6        | 7        | 8        |\n",
    "| Row 2 | 9        | 10       | 11       | 12       |\n",
    "\n",
    "*An alternative syntax used in some programming languages* ``numbers [1,3]`` *or* ``numbers (1,3)``"
   ]
  },
  {
   "cell_type": "markdown",
   "metadata": {},
   "source": [
    "# Chapter 3\n",
    "\n",
    "## Subroutines\n",
    "\n",
    "### Types of subroutine\n",
    "\n",
    "A subroutine is a named block of code which performs a specific task within a program. Most high-level langauges support 2 types of subroutine, **functions** and **procedures**.\n",
    "\n",
    "A procedure is called by writing its name but not assigning the result to a variable, like the ``print`` statement. \n",
    "\n",
    "Python have only 1 type of subroutine, namely functions.\n",
    "\\\n",
    "\\\n",
    "An example of a pseudocode:\n",
    ">``SUB getChoice  \n",
    "    OUTPUT \"Option 1: Display rules\"  \n",
    "    OUTPUT \"Option 2: Start new game\"  \n",
    "    OUTPUT \"Option 3: Quit\"  \n",
    "    OUTPUT \"Enter 1, 2 or 3\"  \n",
    "    INPUT choice  \n",
    "    RETURN choice  \n",
    "ENDSUB    \n",
    "option = getchoice  \n",
    "OUTPUT \"You have chosen\", option``  \n",
    "\n",
    "\\\n",
    "\\\n",
    "It can also include **parameters**\n",
    "\n",
    ">``SUB cylinderVolume (radius, length)  \n",
    "    pi = 3.142  \n",
    "    volume1 = pi*radius*radius*length  \n",
    "    RETURN volume  \n",
    "ENDSUB  \n",
    "OUTPUT \"Enter the radius of the cylinder:\"  \n",
    "INPUT radius  \n",
    "OUTPUT \"Enter the length of the cylinder:\"  \n",
    "INPUT length  \n",
    "volume2 = cylinderVolume(radius, length)  \n",
    "OUTPUT \"The volume of the cylinder is\", volume``  \n",
    "\n",
    "\n",
    "\n",
    "### Local & global variables\n",
    "\n",
    "Global variables can be used anywhere in the program, including within any subroutines. Within a subroutine, local variables can be used and these exist only during the execution of the subroutine. They cannot be accessed outside the subroutine and changing them has no effect on any variable outside the subroutine, even if the variable happens to have the same name as the local variable.\n",
    "\n",
    "The ability to declare local variables is very useful because it ensures that each subroutine is completely self-contained and independent of any global variables that have been declared in the main program. Any variable in the calling program which coincidentally has the same name as a local variable declared in the subroutine will not cause an unexpected side-effect. The principle of **data hiding** and **encapsulation** of all variables needed in a subroutine are very important in programming.  \n",
    "\n",
    "*To declare a global variable, initialise it outside the function/subroutine or add in* ``global var`` *if its initialised inside a function/subroutine*\n",
    "\n",
    "\n",
    "### Modular programming\n",
    "\n",
    "When a program is short and simple, there is no need to break it up into subroutines. With a long, complex program, however, a 'top-down' approach, in which the problem is broken down into a number of substaks, is generally very helpful in designing the algorithm.\n",
    "\n",
    "\n",
    "### Advantages of programming with subroutines\n",
    "\n",
    "- A subroutine is small enough to be understandable as a unit of code. Thus, its relatively easy to understand, debug and maintain especially if its purpose is cleary defined and documented\n",
    "\n",
    "- Subroutines can be tested independently, shortening the time taken to get a large program working\n",
    "\n",
    "- Once a subroutine is properly tested, it can be reused with confidence in different programs or parts of the same program\n",
    "\n",
    "- In a very large project, several programmers may be working on a single program. Using a modular approach, each programmer can be given a specific set of subroutines to work on. This enables the whole program to be finsihed sooner\n",
    "\n",
    "- A large project becomes easier to monitor and control\n",
    "    "
   ]
  },
  {
   "cell_type": "markdown",
   "metadata": {},
   "source": [
    "# Chapter 4\n",
    "\n",
    "## Files and exception handling\n",
    "\n",
    "Generally a **file** consists of a number of **records** which contains a number of **fields**.\n",
    "\n",
    "### Reading, writing and appending to a text file\n",
    "\n",
    "[watch tutorial here](https://www.youtube.com/watch?v=Uh2ebFW8OYM)\n",
    "\n",
    "|                      |                 |\n",
    "| -------------------- | :-------------: |\n",
    "| ``f = open(r'\\file path', 'r')`` | r is passed in the 2nd argument for reading only |\n",
    "| ``f = open(r'\\file path', 'w')`` | w is passed in the 2nd argument for writing only |\n",
    "| ``f = open(r'\\file path', 'r+')`` | r+ is passed in the 2nd argument for reading & writing |\n",
    "| ``f = open(r'\\file path', 'a')`` | a is passed in the 2nd argument for apending only |\n",
    "| ``f.close()`` | Close the file to avoid leakages |\n",
    "| ``f.name`` | Returns the file name |\n",
    "| ``f.mode`` | Returns the mode of the file eg: r, w or a |\n",
    "| ``f.read()`` | Returns everything from the file |\n",
    "| ``f.readline()`` |  |\n",
    "| ``f.readlines()`` |  |\n",
    "| ``f.tell()`` | Returns the current position |\n",
    "| ``f.seek()`` | Determines the current/starting point |\n",
    "| ``f.write(data)`` |  |\n"
   ]
  },
  {
   "cell_type": "code",
   "execution_count": 14,
   "metadata": {},
   "outputs": [
    {
     "name": "stdout",
     "output_type": "stream",
     "text": [
      "File name: testforchap6.txt\n",
      "File mode: r\n"
     ]
    }
   ],
   "source": [
    "#reading file through python (without context manager)\n",
    "\n",
    "f = open('testforchap6.txt', 'r') #if file is in the same directory as python file \n",
    "#else write it as r'\\path\\path\\path'\n",
    "\n",
    "print('File name:', f.name)\n",
    "print('File mode:', f.mode)\n",
    "\n",
    "f.close() #it's important to close the file to avoid leaks"
   ]
  },
  {
   "cell_type": "code",
   "execution_count": 26,
   "metadata": {},
   "outputs": [
    {
     "name": "stdout",
     "output_type": "stream",
     "text": [
      "All of the contents:\n",
      "1) This is a test file!\n",
      "2) With multiple lines of data...\n",
      "3) Third lines\n",
      "4) Fourth line\n",
      "5) Fifth line\n",
      "6) Sixth line\n",
      "7) Seventh line\n",
      "8) Eighth line\n",
      "9) Ninth line\n",
      "10) Tenth line\n",
      "\n",
      "True\n"
     ]
    }
   ],
   "source": [
    "#reading file through python (with context manager)\n",
    "#it allows us ot work on the file within the block of code & closes it automatically once done\n",
    "#it will also close the file if exceptions are thrown\n",
    "\n",
    "with open('testforchap6.txt', 'r') as f: \n",
    "    f_contents = f.read()\n",
    "    print('All of the contents:\\n' + f_contents)\n",
    "    \n",
    "print()\n",
    "print(f.closed) #returns true\n",
    "#print(f.read()) #would return an error since the file is closed"
   ]
  },
  {
   "cell_type": "code",
   "execution_count": 27,
   "metadata": {},
   "outputs": [
    {
     "name": "stdout",
     "output_type": "stream",
     "text": [
      "['1) This is a test file!\\n', '2) With multiple lines of data...\\n', '3) Third lines\\n', '4) Fourth line\\n', '5) Fifth line\\n', '6) Sixth line\\n', '7) Seventh line\\n', '8) Eighth line\\n', '9) Ninth line\\n', '10) Tenth line']\n"
     ]
    }
   ],
   "source": [
    "with open('testforchap6.txt', 'r') as f:\n",
    "    f_contents = f.readlines()\n",
    "    print(f_contents)"
   ]
  },
  {
   "cell_type": "code",
   "execution_count": 29,
   "metadata": {},
   "outputs": [
    {
     "name": "stdout",
     "output_type": "stream",
     "text": [
      "1) This is a test file!\n",
      "\n",
      "2) With multiple lines of data...\n",
      "\n"
     ]
    }
   ],
   "source": [
    "with open('testforchap60.txt', 'r') as f:\n",
    "    f_contents = f.readline() #it gets the next line\n",
    "    print(f_contents)\n",
    "    \n",
    "    f_contents = f.readline()\n",
    "    print(f_contents)"
   ]
  },
  {
   "cell_type": "code",
   "execution_count": 32,
   "metadata": {},
   "outputs": [
    {
     "name": "stdout",
     "output_type": "stream",
     "text": [
      "1) This is a test file!\n",
      "2) With multiple lines of data...\n",
      "3) Third lines\n",
      "4) Fourth line\n",
      "5) Fifth line\n",
      "6) Sixth line\n",
      "7) Seventh line\n",
      "8) Eighth line\n",
      "9) Ninth line\n",
      "10) Tenth line"
     ]
    }
   ],
   "source": [
    "with open('testforchap60.txt', 'r') as f:\n",
    "    for line in f:\n",
    "        print(line, end='')"
   ]
  },
  {
   "cell_type": "code",
   "execution_count": 34,
   "metadata": {},
   "outputs": [
    {
     "name": "stdout",
     "output_type": "stream",
     "text": [
      "1) This is a test file!\n",
      "2) With multiple lines of data...\n",
      "3) Third lines\n",
      "4) Fourth line\n",
      "5) Fifth lin"
     ]
    }
   ],
   "source": [
    "with open('testforchap60.txt', 'r') as f:\n",
    "    f_contents = f.read(100) #prints the first 100 characters inside the file\n",
    "    print(f_contents, end='')\n",
    "    \n",
    "    f_contents = f.read(100) #prints the next 100 characters inside the file\n",
    "    print(f_contents, end='')\n",
    "    \n",
    "    f_contents = f.read(100) #returns an empty string once it reaches the end of the file\n",
    "    print(f_contents, end='')"
   ]
  },
  {
   "cell_type": "code",
   "execution_count": 38,
   "metadata": {},
   "outputs": [
    {
     "name": "stdout",
     "output_type": "stream",
     "text": [
      "10\n",
      "1) This is* a test fi*le!\n",
      "2) Wit*h multiple* lines of *data...\n",
      "3)* Third lin*es\n",
      "4) Four*th line\n",
      "5)* Fifth lin*e\n",
      "6) Sixth* line\n",
      "7) S*eventh lin*e\n",
      "8) Eight*h line\n",
      "9) *Ninth line*\n",
      "10) Tenth* line*\n",
      "\n",
      "Starting from the top...\n",
      "1) This is\n"
     ]
    }
   ],
   "source": [
    "#adding loops to f.read()\n",
    "\n",
    "with open('testforchap60.txt', 'r') as f:\n",
    "    size_to_read = 10\n",
    "    \n",
    "    f_contents = f.read(size_to_read)\n",
    "    print(f.tell()) #prints the current position in the file\n",
    "    \n",
    "    while len(f_contents) > 0: #if it doesnt return an empty string\n",
    "        print(f_contents, end='*') #* is used to know where the last output ends\n",
    "        f_contents = f.read(size_to_read)\n",
    "        \n",
    "    f.seek(0) #moves the current position to the desired location\n",
    "    print('\\n\\nStarting from the top...')\n",
    "    f_contents = f.read(size_to_read)\n",
    "    print(f_contents)"
   ]
  },
  {
   "cell_type": "code",
   "execution_count": null,
   "metadata": {},
   "outputs": [],
   "source": [
    "#writing data into a text file\n",
    "\n",
    "#this would create a new file if it doesnt exist, it it does, it appends it\n",
    "with open('testforchap62.txt', 'w') as f: \n",
    "    f.write('Test')\n",
    "    \n",
    "    #we can also determine its position\n",
    "    f.seek(0)\n",
    "    f.write('R') #this would overwrite the only relevant characters\n",
    "    #txt file would show 'Rest' isntead of 'Test'"
   ]
  },
  {
   "cell_type": "code",
   "execution_count": null,
   "metadata": {},
   "outputs": [],
   "source": [
    "#a short algo for creating duplicating text files\n",
    "\n",
    "with open('testforchap60.txt', 'r') as rf: \n",
    "    with open('copy_testforchap60.txt', 'w') as wf: #creates a new copy file\n",
    "        for line in rf: #takes every line in rf\n",
    "            wf.write(line) #writes every line in wf"
   ]
  },
  {
   "cell_type": "markdown",
   "metadata": {},
   "source": [
    "### Binary (non-text) files\n",
    "\n",
    "Add 'b' to the mode of the file eg: ``open(filename, br)`` to read file in binary."
   ]
  },
  {
   "cell_type": "code",
   "execution_count": null,
   "metadata": {},
   "outputs": [],
   "source": [
    "#a short algo for creating duplicating image files\n",
    "\n",
    "with open('goat.jpg', 'rb') as rf: #rb is for read binary\n",
    "    with open('copy_goat.jpg', 'wb') as wf:\n",
    "        chunk_size = 4096 #instead of looping line per line\n",
    "        rf_cunk = rf.read(chunk_size)\n",
    "        \n",
    "        while len(rf_chunk) > 0:\n",
    "            wf.write(rf_chunk)\n",
    "            rf_chunk = rf.read(chunk_size)"
   ]
  },
  {
   "cell_type": "markdown",
   "metadata": {},
   "source": [
    "### CSV files\n",
    "\n",
    "[watch tutorial here](https://www.youtube.com/watch?v=q5uM4VKywbA)\n",
    "\n",
    "It stands for comma separated values which means a comma (a delimiter) is used to separate the different fields.\n",
    "\n",
    "Firstly, we need to parse the file and ``import csv``.\n",
    "\n",
    "There are 2 ways to access data, one is through ``csv.reader(var, delimiter)`` or ``csv.DictReader(var, delimiter)``.\n",
    "\n",
    "| Differences | ``csv.reader()`` | ``csv.DictReader()`` |\n",
    "| ----------- | :--------------: | :------------------: |\n",
    "|Accessing data | index | dictionary |\n",
    "| Writing data | ``csv.writer(filename, delimiter='')`` | ``csv.DictWriter(filename, fieldnames=var, delimiter='')`` |\n",
    "\n",
    "One key advantages of ``csv.DictReader()`` is we can delete a specific row user ``del line['email']`` *though remember to delete the email key in the fieldnames*."
   ]
  },
  {
   "cell_type": "code",
   "execution_count": 6,
   "metadata": {},
   "outputs": [
    {
     "name": "stdout",
     "output_type": "stream",
     "text": [
      "The header is excluded\n",
      "\n",
      "['John', 'Doe', 'john-doe@bogusemail.com']\n",
      "['Mary', 'Smith-Robinson', 'maryjacobs@bogusemail.com']\n",
      "['Dave', 'Smith', 'davesmith@bogusemail.com']\n",
      "['Jane', 'Stuart', 'janestuart@bogusemail.com']\n",
      "['Tom', 'Wright', 'tomwright@bogusemail.com']\n",
      "['Steve', 'Robinson', 'steverobinson@bogusemail.com']\n",
      "['Nicole', 'Jacobs', 'nicolejacobs@bogusemail.com']\n",
      "['Jane', 'Wright', 'janewright@bogusemail.com']\n",
      "['Jane', 'Doe', 'janedoe@bogusemail.com']\n",
      "['Kurt', 'Wright', 'kurtwright@bogusemail.com']\n",
      "['Kurt', 'Robinson', 'kurtrobinson@bogusemail.com']\n",
      "['Jane', 'Jenkins', 'janejenkins@bogusemail.com']\n",
      "['Neil', 'Robinson', 'neilrobinson@bogusemail.com']\n",
      "['Tom', 'Patterson', 'tompatterson@bogusemail.com']\n",
      "['Sam', 'Jenkins', 'samjenkins@bogusemail.com']\n",
      "['Steve', 'Stuart', 'stevestuart@bogusemail.com']\n",
      "['Maggie', 'Patterson', 'maggiepatterson@bogusemail.com']\n",
      "['Maggie', 'Stuart', 'maggiestuart@bogusemail.com']\n",
      "['Jane', 'Doe', 'janedoe@bogusemail.com']\n",
      "['Steve', 'Patterson', 'stevepatterson@bogusemail.com']\n",
      "['Dave', 'Smith', 'davesmith@bogusemail.com']\n",
      "['Sam', 'Wilks', 'samwilks@bogusemail.com']\n",
      "['Kurt', 'Jefferson', 'kurtjefferson@bogusemail.com']\n",
      "['Sam', 'Stuart', 'samstuart@bogusemail.com']\n",
      "['Jane', 'Stuart', 'janestuart@bogusemail.com']\n",
      "['Dave', 'Davis', 'davedavis@bogusemail.com']\n",
      "['Sam', 'Patterson', 'sampatterson@bogusemail.com']\n",
      "['Tom', 'Jefferson', 'tomjefferson@bogusemail.com']\n",
      "['Jane', 'Stuart', 'janestuart@bogusemail.com']\n",
      "['Maggie', 'Jefferson', 'maggiejefferson@bogusemail.com']\n",
      "['Mary', 'Wilks', 'marywilks@bogusemail.com']\n",
      "['Neil', 'Patterson', 'neilpatterson@bogusemail.com']\n",
      "['Corey', 'Davis', 'coreydavis@bogusemail.com']\n",
      "['Steve', 'Jacobs', 'stevejacobs@bogusemail.com']\n",
      "['Jane', 'Jenkins', 'janejenkins@bogusemail.com']\n",
      "['John', 'Jacobs', 'johnjacobs@bogusemail.com']\n",
      "['Neil', 'Smith', 'neilsmith@bogusemail.com']\n",
      "['Corey', 'Wilks', 'coreywilks@bogusemail.com']\n",
      "['Corey', 'Smith', 'coreysmith@bogusemail.com']\n",
      "['Mary', 'Patterson', 'marypatterson@bogusemail.com']\n",
      "['Jane', 'Stuart', 'janestuart@bogusemail.com']\n",
      "['Travis', 'Arnold', 'travisarnold@bogusemail.com']\n",
      "['John', 'Robinson', 'johnrobinson@bogusemail.com']\n",
      "['Travis', 'Arnold', 'travisarnold@bogusemail.com']\n"
     ]
    }
   ],
   "source": [
    "import csv\n",
    "\n",
    "with open ('names.csv', 'r') as csv_file:\n",
    "    csv_reader = csv.reader(csv_file) #expects the values to be separated by commas\n",
    "    \n",
    "    #print('The header values in included\\n')\n",
    "    #for line in csv_reader:\n",
    "        #print(line)\n",
    "        #Note that first value is the headers\n",
    "        \n",
    "    #to skip it, one method is through next()\n",
    "    next(csv_reader)\n",
    "    \n",
    "    print('The header is excluded\\n')\n",
    "    for line in csv_reader:\n",
    "        print(line)\n",
    "        #print(line[3])"
   ]
  },
  {
   "cell_type": "code",
   "execution_count": null,
   "metadata": {},
   "outputs": [],
   "source": [
    "#duplicating files with different delimeter\n",
    "import csv\n",
    "\n",
    "with open ('names.csv', 'r') as csv_file:\n",
    "    csv_reader = csv.reader(csv_file) #expects the values to be separated by commas\n",
    "    #csv_reader = csv.reader(new_file, delimeter = '-')\n",
    "    \n",
    "    with open ('new_names1.csv', 'w') as new_file:\n",
    "        csv_writer = csv.writer(new_file, delimiter='-') #'\\t'\n",
    "        #if there is a value that has '-' in the first place, it would string the whole thing\n",
    "        #eg: john-doe -> 'john-doe' to prevent the code from spliting the value\n",
    "    \n",
    "    for line in csv_reader:\n",
    "        csv_writer.writerow(line)"
   ]
  },
  {
   "cell_type": "code",
   "execution_count": 7,
   "metadata": {},
   "outputs": [
    {
     "name": "stdout",
     "output_type": "stream",
     "text": [
      "{'first_name': 'John', 'last_name': 'Doe', 'email': 'john-doe@bogusemail.com'}\n",
      "{'first_name': 'Mary', 'last_name': 'Smith-Robinson', 'email': 'maryjacobs@bogusemail.com'}\n",
      "{'first_name': 'Dave', 'last_name': 'Smith', 'email': 'davesmith@bogusemail.com'}\n",
      "{'first_name': 'Jane', 'last_name': 'Stuart', 'email': 'janestuart@bogusemail.com'}\n",
      "{'first_name': 'Tom', 'last_name': 'Wright', 'email': 'tomwright@bogusemail.com'}\n",
      "{'first_name': 'Steve', 'last_name': 'Robinson', 'email': 'steverobinson@bogusemail.com'}\n",
      "{'first_name': 'Nicole', 'last_name': 'Jacobs', 'email': 'nicolejacobs@bogusemail.com'}\n",
      "{'first_name': 'Jane', 'last_name': 'Wright', 'email': 'janewright@bogusemail.com'}\n",
      "{'first_name': 'Jane', 'last_name': 'Doe', 'email': 'janedoe@bogusemail.com'}\n",
      "{'first_name': 'Kurt', 'last_name': 'Wright', 'email': 'kurtwright@bogusemail.com'}\n",
      "{'first_name': 'Kurt', 'last_name': 'Robinson', 'email': 'kurtrobinson@bogusemail.com'}\n",
      "{'first_name': 'Jane', 'last_name': 'Jenkins', 'email': 'janejenkins@bogusemail.com'}\n",
      "{'first_name': 'Neil', 'last_name': 'Robinson', 'email': 'neilrobinson@bogusemail.com'}\n",
      "{'first_name': 'Tom', 'last_name': 'Patterson', 'email': 'tompatterson@bogusemail.com'}\n",
      "{'first_name': 'Sam', 'last_name': 'Jenkins', 'email': 'samjenkins@bogusemail.com'}\n",
      "{'first_name': 'Steve', 'last_name': 'Stuart', 'email': 'stevestuart@bogusemail.com'}\n",
      "{'first_name': 'Maggie', 'last_name': 'Patterson', 'email': 'maggiepatterson@bogusemail.com'}\n",
      "{'first_name': 'Maggie', 'last_name': 'Stuart', 'email': 'maggiestuart@bogusemail.com'}\n",
      "{'first_name': 'Jane', 'last_name': 'Doe', 'email': 'janedoe@bogusemail.com'}\n",
      "{'first_name': 'Steve', 'last_name': 'Patterson', 'email': 'stevepatterson@bogusemail.com'}\n",
      "{'first_name': 'Dave', 'last_name': 'Smith', 'email': 'davesmith@bogusemail.com'}\n",
      "{'first_name': 'Sam', 'last_name': 'Wilks', 'email': 'samwilks@bogusemail.com'}\n",
      "{'first_name': 'Kurt', 'last_name': 'Jefferson', 'email': 'kurtjefferson@bogusemail.com'}\n",
      "{'first_name': 'Sam', 'last_name': 'Stuart', 'email': 'samstuart@bogusemail.com'}\n",
      "{'first_name': 'Jane', 'last_name': 'Stuart', 'email': 'janestuart@bogusemail.com'}\n",
      "{'first_name': 'Dave', 'last_name': 'Davis', 'email': 'davedavis@bogusemail.com'}\n",
      "{'first_name': 'Sam', 'last_name': 'Patterson', 'email': 'sampatterson@bogusemail.com'}\n",
      "{'first_name': 'Tom', 'last_name': 'Jefferson', 'email': 'tomjefferson@bogusemail.com'}\n",
      "{'first_name': 'Jane', 'last_name': 'Stuart', 'email': 'janestuart@bogusemail.com'}\n",
      "{'first_name': 'Maggie', 'last_name': 'Jefferson', 'email': 'maggiejefferson@bogusemail.com'}\n",
      "{'first_name': 'Mary', 'last_name': 'Wilks', 'email': 'marywilks@bogusemail.com'}\n",
      "{'first_name': 'Neil', 'last_name': 'Patterson', 'email': 'neilpatterson@bogusemail.com'}\n",
      "{'first_name': 'Corey', 'last_name': 'Davis', 'email': 'coreydavis@bogusemail.com'}\n",
      "{'first_name': 'Steve', 'last_name': 'Jacobs', 'email': 'stevejacobs@bogusemail.com'}\n",
      "{'first_name': 'Jane', 'last_name': 'Jenkins', 'email': 'janejenkins@bogusemail.com'}\n",
      "{'first_name': 'John', 'last_name': 'Jacobs', 'email': 'johnjacobs@bogusemail.com'}\n",
      "{'first_name': 'Neil', 'last_name': 'Smith', 'email': 'neilsmith@bogusemail.com'}\n",
      "{'first_name': 'Corey', 'last_name': 'Wilks', 'email': 'coreywilks@bogusemail.com'}\n",
      "{'first_name': 'Corey', 'last_name': 'Smith', 'email': 'coreysmith@bogusemail.com'}\n",
      "{'first_name': 'Mary', 'last_name': 'Patterson', 'email': 'marypatterson@bogusemail.com'}\n",
      "{'first_name': 'Jane', 'last_name': 'Stuart', 'email': 'janestuart@bogusemail.com'}\n",
      "{'first_name': 'Travis', 'last_name': 'Arnold', 'email': 'travisarnold@bogusemail.com'}\n",
      "{'first_name': 'John', 'last_name': 'Robinson', 'email': 'johnrobinson@bogusemail.com'}\n",
      "{'first_name': 'Travis', 'last_name': 'Arnold', 'email': 'travisarnold@bogusemail.com'}\n"
     ]
    }
   ],
   "source": [
    "import csv\n",
    "\n",
    "with open ('names.csv', 'r') as csv_file:\n",
    "    csv_reader = csv.DictReader(csv_file) #expects the values to be separated by commas\n",
    "    #it skips the header and moves on to the first value\n",
    "    #it makes the field names the keys\n",
    "    \n",
    "    for line in csv_reader:\n",
    "        print(line)\n",
    "        #print(line['email'])"
   ]
  },
  {
   "cell_type": "code",
   "execution_count": null,
   "metadata": {},
   "outputs": [],
   "source": [
    "#duplicating files with different delimeter\n",
    "import csv\n",
    "\n",
    "with open ('names.csv', 'r') as csv_file:\n",
    "    csv_reader = csv.DictReader(csv_file) #expects the values to be separated by commas\n",
    "    #csv_reader = csv.reader(new_file, delimeter = '-')\n",
    "    \n",
    "    with open ('new_names2.csv', 'w') as new_file:\n",
    "        fieldnames = ['first_name', 'last_name', 'email']\n",
    "        csv_writer = csv.DictWriter(new_file, fieldnames = fieldnames, delimiter='\\t') #'\\t'\n",
    "        #if there is a value that has '-' in the first place, it would string the whole thing\n",
    "        #eg: john-doe -> 'john-doe' to prevent the code from spliting the value\n",
    "        \n",
    "        csv_writer.writeheader() #to include the header\n",
    "    \n",
    "    for line in csv_reader:\n",
    "        #del line['email'] #though remember to delete it in the fieldnames!\n",
    "        csv_writer.writerow(line)"
   ]
  },
  {
   "cell_type": "markdown",
   "metadata": {},
   "source": [
    "### Exception handling\n",
    "\n",
    "[watch tutorial here](https://www.youtube.com/watch?v=NIWwJbo-9_8)\n",
    "\n",
    "1. Using Try/Except blocks  \n",
    "> ``try:\n",
    "     pass\n",
    "except Exception:\n",
    "    pass\n",
    "else: #runs if there's no exception\n",
    "    pass\n",
    "finally: #runs with and without an exception. It would be the area where you close down the database\n",
    "    pass``\n",
    "    \n",
    "Exception is a vague term for all errors. Hence we need to be more specific. We can also create our own exceptions using ``raise Exception``\n",
    "\n",
    "Normally, the rest of the **sequence construct would be under ``else`` or under the Try/Except blocks**.\n",
    "\n",
    "\n",
    "|  |  |\n",
    "| -- | -- |\n",
    "| FileNotFoundError |  |"
   ]
  },
  {
   "cell_type": "code",
   "execution_count": null,
   "metadata": {},
   "outputs": [],
   "source": [
    "try:\n",
    "    f = open('nofile.txt')\n",
    "    \n",
    "    if f.name == 'corrupt.txt':\n",
    "        raise Exception #this would be handled as an Exception \n",
    "    \n",
    "except FileNotFoundError: #specific errors on top\n",
    "    print(\"Sorry, this file doesn't exist\")\n",
    "    \n",
    "except Exception: #general errors below\n",
    "    print(\"Sorry, something went wrong.\")"
   ]
  }
 ],
 "metadata": {
  "kernelspec": {
   "display_name": "Python 3",
   "language": "python",
   "name": "python3"
  },
  "language_info": {
   "codemirror_mode": {
    "name": "ipython",
    "version": 3
   },
   "file_extension": ".py",
   "mimetype": "text/x-python",
   "name": "python",
   "nbconvert_exporter": "python",
   "pygments_lexer": "ipython3",
   "version": "3.8.2"
  }
 },
 "nbformat": 4,
 "nbformat_minor": 4
}
